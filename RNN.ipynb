{
 "cells": [
  {
   "cell_type": "code",
   "id": "initial_id",
   "metadata": {
    "collapsed": true,
    "ExecuteTime": {
     "end_time": "2024-07-17T13:15:04.838288Z",
     "start_time": "2024-07-17T13:15:04.832218Z"
    }
   },
   "source": [
    "import torch\n",
    "import torch.nn as nn\n",
    "import torch.nn.functional as F\n",
    "import torch.optim as optim\n",
    "import torch.utils.data as data\n",
    "import torchvision\n",
    "from torchvision import datasets, transforms\n",
    "import numpy as np\n",
    "import matplotlib.pyplot as plt\n",
    "import os"
   ],
   "outputs": [],
   "execution_count": 2
  },
  {
   "metadata": {
    "ExecuteTime": {
     "end_time": "2024-07-17T13:15:08.986398Z",
     "start_time": "2024-07-17T13:15:08.977501Z"
    }
   },
   "cell_type": "code",
   "source": [
    "x=torch.randn(1,3,5,5)\n",
    "print(x)"
   ],
   "id": "73eaa0131b17839a",
   "outputs": [
    {
     "name": "stdout",
     "output_type": "stream",
     "text": [
      "tensor([[[[ 1.4395, -0.6357, -0.0964,  0.2675,  0.5034],\n",
      "          [-0.7529,  1.0450,  0.1885, -0.2164, -0.7513],\n",
      "          [-1.4434,  0.4405,  0.0324,  0.1642,  1.0761],\n",
      "          [-0.7416, -0.2524,  0.8341,  0.1337, -0.6329],\n",
      "          [ 0.7123, -0.3551,  1.7161,  0.8793,  0.6624]],\n",
      "\n",
      "         [[-0.1372,  1.2284,  0.2822, -0.4877, -0.6876],\n",
      "          [-1.0129, -1.0575,  0.7261, -0.8105, -1.0961],\n",
      "          [-0.5515, -1.0153, -0.1790, -0.9470,  0.0416],\n",
      "          [ 0.6400, -1.1641,  2.1432, -0.2012, -0.2823],\n",
      "          [ 0.2729, -1.4841,  0.3449, -0.6368,  0.7590]],\n",
      "\n",
      "         [[-0.6916, -1.0980, -0.0170, -0.6317,  0.3733],\n",
      "          [ 1.6666, -0.5156,  0.6111, -0.3203,  0.9765],\n",
      "          [-0.5427, -0.2528, -1.0556,  1.6339,  0.4003],\n",
      "          [-1.6272, -0.1134,  0.1584,  0.8734,  0.2258],\n",
      "          [-0.4179, -0.1550,  0.8044, -0.9489, -1.2943]]]])\n"
     ]
    }
   ],
   "execution_count": 3
  },
  {
   "metadata": {
    "ExecuteTime": {
     "end_time": "2024-07-21T05:27:16.587811Z",
     "start_time": "2024-07-21T05:27:16.578769Z"
    }
   },
   "cell_type": "code",
   "source": [
    "import torch.nn as nn\n",
    "import torch.nn.functional as F\n",
    "\n",
    "\n",
    "class classname(nn.module):\n",
    "    def __niit(self,;;;;;;;;;;;;;;;;;;;;;;;;;;;;;;;;;;;;;;;;;;;;;;;;;;;;;;;;;;;;;;;;;;;;;;;;;;;;;;;;;;;;]\\):\n",
    "class module(nn.Module):\n",
    "    def __init__(self, input_size, hidden_size, output_size):\n",
    "        super(module, self).__init__()\n",
    "\n",
    "        self.hidden_size = hidden_size\n",
    "\n",
    "        self.i2h = nn.Linear(input_size, hidden_size)\n",
    "        self.h2h = nn.Linear(hidden_size, hidden_size)\n",
    "        self.h2o = nn.Linear(hidden_size, output_size)\n",
    "        self.softmax = nn.CrossEntropyLoss()\n",
    "\n",
    "    def forward(self, input, hidden):\n",
    "        hidden = F.relu(self.i2h(input) + self.h2h(hidden))\n",
    "        output = self.h2o(hidden)\n",
    "        output = self.softmax(output)\n",
    "        return output, hidden\n",
    "\n",
    "    def initHidden(self):\n",
    "        return torch.zeros(1, self.hidden_size)\n",
    "    \n",
    "criterion = nn.NLLLoss()"
   ],
   "id": "ec992354aed8cd15",
   "outputs": [],
   "execution_count": 2
  }
 ],
 "metadata": {
  "kernelspec": {
   "display_name": "Python 3",
   "language": "python",
   "name": "python3"
  },
  "language_info": {
   "codemirror_mode": {
    "name": "ipython",
    "version": 2
   },
   "file_extension": ".py",
   "mimetype": "text/x-python",
   "name": "python",
   "nbconvert_exporter": "python",
   "pygments_lexer": "ipython2",
   "version": "2.7.6"
  }
 },
 "nbformat": 4,
 "nbformat_minor": 5
}
