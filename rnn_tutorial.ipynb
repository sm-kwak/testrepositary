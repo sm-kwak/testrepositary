{
 "cells": [
  {
   "cell_type": "code",
   "metadata": {
    "collapsed": false,
    "ExecuteTime": {
     "end_time": "2024-07-18T02:52:04.753231Z",
     "start_time": "2024-07-18T02:52:02.623078Z"
    }
   },
   "source": [
    "# For tips on running notebooks in Google Colab, see\n",
    "# https://pytorch.org/tutorials/beginner/colab\n",
    "%matplotlib inline"
   ],
   "outputs": [],
   "execution_count": 1
  },
  {
   "metadata": {},
   "cell_type": "markdown",
   "source": [
    "NLP From Scratch: Classifying Names with a Character-Level RNN\n",
    "==============================================================\n",
    "\n",
    "**Author**: [Sean Robertson](https://github.com/spro)\n",
    "\n",
    "We will be building and training a basic character-level Recurrent\n",
    "Neural Network (RNN) to classify words. This tutorial, along with two\n",
    "other Natural Language Processing (NLP) \\\"from scratch\\\" tutorials\n",
    "`/intermediate/char_rnn_generation_tutorial`{.interpreted-text\n",
    "role=\"doc\"} and\n",
    "`/intermediate/seq2seq_translation_tutorial`{.interpreted-text\n",
    "role=\"doc\"}, show how to preprocess data to model NLP. In particular\n",
    "these tutorials do not use many of the convenience functions of\n",
    "[torchtext]{.title-ref}, so you can see how preprocessing to model NLP\n",
    "works at a low level.\n",
    "\n",
    "A character-level RNN reads words as a series of characters -outputting\n",
    "a prediction and \\\"hidden state\\\" at each step, feeding its previous\n",
    "hidden state into each next step. We take the final prediction to be the\n",
    "output, i.e. which class the word belongs to.\n",
    "\n",
    "Specifically, we\\'ll train on a few thousand surnames from 18 languages\n",
    "of origin, and predict which language a name is from based on the\n",
    "spelling:\n",
    "\n",
    "``` {.sourceCode .sh}\n",
    "$ python predict.py Hinton\n",
    "(-0.47) Scottish\n",
    "(-1.52) English\n",
    "(-3.57) Irish\n",
    "\n",
    "$ python predict.py Schmidhuber\n",
    "(-0.19) German\n",
    "(-2.48) Czech\n",
    "(-2.68) Dutch\n",
    "```\n",
    "\n",
    "Recommended Preparation\n",
    "-----------------------\n",
    "\n",
    "Before starting this tutorial it is recommended that you have installed\n",
    "PyTorch, and have a basic understanding of Python programming language\n",
    "and Tensors:\n",
    "\n",
    "-   <https://pytorch.org/> For installation instructions\n",
    "-   `/beginner/deep_learning_60min_blitz`{.interpreted-text role=\"doc\"}\n",
    "    to get started with PyTorch in general and learn the basics of\n",
    "    Tensors\n",
    "-   `/beginner/pytorch_with_examples`{.interpreted-text role=\"doc\"} for\n",
    "    a wide and deep overview\n",
    "-   `/beginner/former_torchies_tutorial`{.interpreted-text role=\"doc\"}\n",
    "    if you are former Lua Torch user\n",
    "\n",
    "It would also be useful to know about RNNs and how they work:\n",
    "\n",
    "-   [The Unreasonable Effectiveness of Recurrent Neural\n",
    "    Networks](https://karpathy.github.io/2015/05/21/rnn-effectiveness/)\n",
    "    shows a bunch of real life examples\n",
    "-   [Understanding LSTM\n",
    "    Networks](https://colah.github.io/posts/2015-08-Understanding-LSTMs/)\n",
    "    is about LSTMs specifically but also informative about RNNs in\n",
    "    general\n",
    "\n",
    "Preparing the Data\n",
    "------------------\n",
    "\n",
    "<div style=\"background-color: #54c7ec; color: #fff; font-weight: 700; padding-left: 10px; padding-top: 5px; padding-bottom: 5px\"><strong>NOTE:</strong></div>\n",
    "<div style=\"background-color: #f3f4f7; padding-left: 10px; padding-top: 10px; padding-bottom: 10px; padding-right: 10px\">\n",
    "<p>Download the data from<a href=\"https://download.pytorch.org/tutorial/data.zip\">here</a>and extract it to the current directory.</p>\n",
    "</div>\n",
    "\n",
    "Included in the `data/names` directory are 18 text files named as\n",
    "`[Language].txt`. Each file contains a bunch of names, one name per\n",
    "line, mostly romanized (but we still need to convert from Unicode to\n",
    "ASCII).\n",
    "\n",
    "We\\'ll end up with a dictionary of lists of names per language,\n",
    "`{language: [names ...]}`. The generic variables \\\"category\\\" and\n",
    "\\\"line\\\" (for language and name in our case) are used for later\n",
    "extensibility.\n"
   ]
  },
  {
   "cell_type": "code",
   "metadata": {
    "collapsed": false,
    "ExecuteTime": {
     "end_time": "2024-07-18T02:52:04.765833Z",
     "start_time": "2024-07-18T02:52:04.756239Z"
    }
   },
   "source": [
    "from io import open\n",
    "import glob\n",
    "import os\n",
    "\n",
    "def findFiles(path): return glob.glob(path)\n",
    "\n",
    "files = findFiles(\"C:/Users/yover/Downloads/data/data/names/*.txt\")\n",
    "import unicodedata\n",
    "import string"
   ],
   "outputs": [],
   "execution_count": 2
  },
  {
   "metadata": {
    "ExecuteTime": {
     "end_time": "2024-07-18T02:52:04.779248Z",
     "start_time": "2024-07-18T02:52:04.767843Z"
    }
   },
   "cell_type": "code",
   "source": [
    "all_letters = string.ascii_letters + \" .,;'\"\n",
    "n_letters = len(all_letters)\n",
    "\n",
    "# Turn a Unicode string to plain ASCII, thanks to https://stackoverflow.com/a/518232/2809427\n",
    "def unicodeToAscii(s):\n",
    "    return ''.join(\n",
    "        c for c in unicodedata.normalize('NFD', s)\n",
    "        if unicodedata.category(c) != 'Mn'\n",
    "        and c in all_letters\n",
    "    )\n",
    "\n",
    "print(unicodeToAscii('Ślusàrsk'))"
   ],
   "outputs": [
    {
     "name": "stdout",
     "output_type": "stream",
     "text": [
      "Slusarsk\n"
     ]
    }
   ],
   "execution_count": 3
  },
  {
   "metadata": {
    "ExecuteTime": {
     "end_time": "2024-07-18T02:52:04.934834Z",
     "start_time": "2024-07-18T02:52:04.782257Z"
    }
   },
   "cell_type": "code",
   "source": [
    "# Build the category_lines dictionary, a list of names per language\n",
    "category_lines = {}\n",
    "all_categories = []\n",
    "# Read a file and split into lines\n",
    "def readLines(filename):\n",
    "    lines = open(filename, encoding='utf-8').read().strip().split('\\n')\n",
    "    return [unicodeToAscii(line) for line in lines]\n",
    "\n",
    "for filename in files:\n",
    "    category = os.path.splitext(os.path.basename(filename))[0]\n",
    "    all_categories.append(category)\n",
    "    lines = readLines(filename)\n",
    "    category_lines[category] = lines\n",
    "\n",
    "n_categories = len(all_categories)\n",
    "print(n_categories)"
   ],
   "outputs": [
    {
     "name": "stdout",
     "output_type": "stream",
     "text": [
      "18\n"
     ]
    }
   ],
   "execution_count": 4
  },
  {
   "cell_type": "markdown",
   "metadata": {},
   "source": [
    "Now we have `category_lines`, a dictionary mapping each category\n",
    "(language) to a list of lines (names). We also kept track of\n",
    "`all_categories` (just a list of languages) and `n_categories` for later\n",
    "reference.\n"
   ]
  },
  {
   "cell_type": "code",
   "metadata": {
    "collapsed": false,
    "ExecuteTime": {
     "end_time": "2024-07-18T02:52:04.944610Z",
     "start_time": "2024-07-18T02:52:04.938232Z"
    }
   },
   "source": [
    "print(category_lines['Italian'][:5])"
   ],
   "outputs": [
    {
     "name": "stdout",
     "output_type": "stream",
     "text": [
      "['Abandonato', 'Abatangelo', 'Abatantuono', 'Abate', 'Abategiovanni']\n"
     ]
    }
   ],
   "execution_count": 5
  },
  {
   "cell_type": "markdown",
   "metadata": {},
   "source": [
    "Turning Names into Tensors\n",
    "==========================\n",
    "\n",
    "Now that we have all the names organized, we need to turn them into\n",
    "Tensors to make any use of them.\n",
    "\n",
    "To represent a single letter, we use a \\\"one-hot vector\\\" of size\n",
    "`<1 x n_letters>`. A one-hot vector is filled with 0s except for a 1 at\n",
    "index of the current letter, e.g. `\"b\" = <0 1 0 0 0 ...>`.\n",
    "\n",
    "To make a word we join a bunch of those into a 2D matrix\n",
    "`<line_length x 1 x n_letters>`.\n",
    "\n",
    "That extra 1 dimension is because PyTorch assumes everything is in\n",
    "batches - we\\'re just using a batch size of 1 here.\n"
   ]
  },
  {
   "cell_type": "code",
   "metadata": {
    "collapsed": false,
    "ExecuteTime": {
     "end_time": "2024-07-18T02:52:12.925965Z",
     "start_time": "2024-07-18T02:52:04.949621Z"
    }
   },
   "source": [
    "import torch\n",
    "\n",
    "# Find letter index from all_letters, e.g. \"a\" = 0\n",
    "def letterToIndex(letter):\n",
    "    return all_letters.find(letter)\n",
    "\n",
    "# Just for demonstration, turn a letter into a <1 x n_letters> Tensor\n",
    "def letterToTensor(letter):\n",
    "    tensor = torch.zeros(1, n_letters)\n",
    "    tensor[0][letterToIndex(letter)] = 1\n",
    "    return tensor\n",
    "\n",
    "# Turn a line into a <line_length x 1 x n_letters>,\n",
    "# or an array of one-hot letter vectors\n",
    "def lineToTensor(line):\n",
    "    tensor = torch.zeros(len(line), 1, n_letters)\n",
    "    for li, letter in enumerate(line):\n",
    "        tensor[li][0][letterToIndex(letter)] = 1\n",
    "    return tensor\n",
    "\n",
    "print(letterToTensor('J'))\n",
    "\n",
    "print(lineToTensor('Jones').size())"
   ],
   "outputs": [
    {
     "name": "stdout",
     "output_type": "stream",
     "text": [
      "tensor([[0., 0., 0., 0., 0., 0., 0., 0., 0., 0., 0., 0., 0., 0., 0., 0., 0., 0.,\n",
      "         0., 0., 0., 0., 0., 0., 0., 0., 0., 0., 0., 0., 0., 0., 0., 0., 0., 1.,\n",
      "         0., 0., 0., 0., 0., 0., 0., 0., 0., 0., 0., 0., 0., 0., 0., 0., 0., 0.,\n",
      "         0., 0., 0.]])\n",
      "torch.Size([5, 1, 57])\n"
     ]
    }
   ],
   "execution_count": 6
  },
  {
   "cell_type": "markdown",
   "metadata": {},
   "source": [
    "Creating the Network\n",
    "====================\n",
    "\n",
    "Before autograd, creating a recurrent neural network in Torch involved\n",
    "cloning the parameters of a layer over several timesteps. The layers\n",
    "held hidden state and gradients which are now entirely handled by the\n",
    "graph itself. This means you can implement a RNN in a very \\\"pure\\\" way,\n",
    "as regular feed-forward layers.\n",
    "\n",
    "This RNN module implements a \\\"vanilla RNN\\\" an is just 3 linear layers\n",
    "which operate on an input and hidden state, with a `LogSoftmax` layer\n",
    "after the output.\n"
   ]
  },
  {
   "cell_type": "code",
   "metadata": {
    "collapsed": false,
    "ExecuteTime": {
     "end_time": "2024-07-21T05:25:35.622287Z",
     "start_time": "2024-07-21T05:25:32.836817Z"
    }
   },
   "source": [
    "import torch.nn as nn\n",
    "import torch.nn.functional as F\n",
    "\n",
    "class RNN(nn.Module):\n",
    "    def __init__(self, input_size, hidden_size, output_size):\n",
    "        super(RNN, self).__init__()\n",
    "\n",
    "        self.hidden_size = hidden_size\n",
    "\n",
    "        self.i2h = nn.Linear(input_size, hidden_size)\n",
    "        self.h2h = nn.Linear(hidden_size, hidden_size)\n",
    "        self.h2o = nn.Linear(hidden_size, output_size)\n",
    "        self.softmax = nn.LogSoftmax(dim=1)\n",
    "\n",
    "    def forward(self, input, hidden):\n",
    "        hidden = F.tanh(self.i2h(input) + self.h2h(hidden))\n",
    "        output = self.h2o(hidden)\n",
    "        output = self.softmax(output)\n",
    "        return output, hidden\n",
    "\n",
    "    def initHidden(self):\n",
    "        return torch.zeros(1, self.hidden_size)\n",
    "    \n",
    "criterion = nn.NLLLoss()\n",
    "n_hidden = 128\n",
    "rnn = RNN(n_letters, n_hidden, n_categories)"
   ],
   "outputs": [
    {
     "ename": "NameError",
     "evalue": "name 'n_letters' is not defined",
     "output_type": "error",
     "traceback": [
      "\u001B[1;31m---------------------------------------------------------------------------\u001B[0m",
      "\u001B[1;31mNameError\u001B[0m                                 Traceback (most recent call last)",
      "Cell \u001B[1;32mIn[1], line 26\u001B[0m\n\u001B[0;32m     24\u001B[0m criterion \u001B[38;5;241m=\u001B[39m nn\u001B[38;5;241m.\u001B[39mNLLLoss()\n\u001B[0;32m     25\u001B[0m n_hidden \u001B[38;5;241m=\u001B[39m \u001B[38;5;241m128\u001B[39m\n\u001B[1;32m---> 26\u001B[0m rnn \u001B[38;5;241m=\u001B[39m RNN(n_letters, n_hidden, n_categories)\n",
      "\u001B[1;31mNameError\u001B[0m: name 'n_letters' is not defined"
     ]
    }
   ],
   "execution_count": 1
  },
  {
   "cell_type": "markdown",
   "metadata": {},
   "source": [
    "To run a step of this network we need to pass an input (in our case, the\n",
    "Tensor for the current letter) and a previous hidden state (which we\n",
    "initialize as zeros at first). We\\'ll get back the output (probability\n",
    "of each language) and a next hidden state (which we keep for the next\n",
    "step).\n"
   ]
  },
  {
   "cell_type": "code",
   "metadata": {
    "collapsed": false,
    "ExecuteTime": {
     "end_time": "2024-07-18T03:06:06.698587Z",
     "start_time": "2024-07-18T03:06:06.689600Z"
    }
   },
   "source": [
    "input = letterToTensor('A')\n",
    "hidden = torch.zeros(1, n_hidden)\n",
    "\n",
    "output, next_hidden = rnn(input, hidden)"
   ],
   "outputs": [],
   "execution_count": 28
  },
  {
   "cell_type": "markdown",
   "metadata": {},
   "source": [
    "For the sake of efficiency we don\\'t want to be creating a new Tensor\n",
    "for every step, so we will use `lineToTensor` instead of\n",
    "`letterToTensor` and use slices. This could be further optimized by\n",
    "precomputing batches of Tensors.\n"
   ]
  },
  {
   "cell_type": "code",
   "metadata": {
    "collapsed": false,
    "ExecuteTime": {
     "end_time": "2024-07-18T03:10:34.520590Z",
     "start_time": "2024-07-18T03:10:34.490463Z"
    }
   },
   "source": [
    "input = lineToTensor('Albert')\n",
    "hidden = torch.zeros(1, n_hidden)\n",
    "for i in range(10):\n",
    "    output, next_hidden = rnn(input[0], hidden)\n",
    "    print(output)\n",
    "    hidden = next_hidden"
   ],
   "outputs": [
    {
     "name": "stdout",
     "output_type": "stream",
     "text": [
      "tensor([[-2.8885, -2.8967, -2.9491, -2.8751, -2.8741, -2.9691, -2.8602, -2.9782,\n",
      "         -2.8507, -2.7837, -2.8818, -2.7994, -2.8441, -2.9756, -2.9437, -2.8276,\n",
      "         -2.9486, -2.9104]], grad_fn=<LogSoftmaxBackward0>)\n",
      "tensor([[-2.8875, -2.9364, -2.9749, -2.9040, -2.8684, -2.9633, -2.8092, -2.9490,\n",
      "         -2.8332, -2.7908, -2.9240, -2.7601, -2.8245, -3.0063, -2.9758, -2.8444,\n",
      "         -2.9019, -2.9156]], grad_fn=<LogSoftmaxBackward0>)\n",
      "tensor([[-2.8643, -2.9240, -2.9784, -2.9353, -2.8457, -2.9703, -2.7785, -2.9502,\n",
      "         -2.8340, -2.8171, -2.9443, -2.7938, -2.8103, -3.0226, -2.9729, -2.7995,\n",
      "         -2.9295, -2.9048]], grad_fn=<LogSoftmaxBackward0>)\n",
      "tensor([[-2.8668, -2.9326, -2.9666, -2.9524, -2.8458, -2.9770, -2.7456, -2.9422,\n",
      "         -2.8476, -2.8293, -2.9341, -2.8015, -2.7979, -3.0265, -2.9819, -2.8120,\n",
      "         -2.9188, -2.8999]], grad_fn=<LogSoftmaxBackward0>)\n",
      "tensor([[-2.8817, -2.9273, -2.9767, -2.9619, -2.8494, -2.9744, -2.7320, -2.9370,\n",
      "         -2.8490, -2.8208, -2.9240, -2.8009, -2.7964, -3.0257, -2.9835, -2.8106,\n",
      "         -2.9212, -2.9090]], grad_fn=<LogSoftmaxBackward0>)\n",
      "tensor([[-2.8876, -2.9229, -2.9686, -2.9699, -2.8524, -2.9767, -2.7327, -2.9346,\n",
      "         -2.8549, -2.8154, -2.9271, -2.8013, -2.7934, -3.0297, -2.9803, -2.8149,\n",
      "         -2.9162, -2.9026]], grad_fn=<LogSoftmaxBackward0>)\n",
      "tensor([[-2.8911, -2.9189, -2.9676, -2.9696, -2.8535, -2.9768, -2.7336, -2.9379,\n",
      "         -2.8557, -2.8158, -2.9244, -2.8030, -2.7939, -3.0302, -2.9779, -2.8171,\n",
      "         -2.9107, -2.9028]], grad_fn=<LogSoftmaxBackward0>)\n",
      "tensor([[-2.8916, -2.9175, -2.9691, -2.9686, -2.8527, -2.9769, -2.7340, -2.9387,\n",
      "         -2.8570, -2.8148, -2.9238, -2.8038, -2.7937, -3.0307, -2.9763, -2.8190,\n",
      "         -2.9096, -2.9022]], grad_fn=<LogSoftmaxBackward0>)\n",
      "tensor([[-2.8922, -2.9166, -2.9681, -2.9683, -2.8521, -2.9766, -2.7348, -2.9395,\n",
      "         -2.8571, -2.8149, -2.9246, -2.8042, -2.7943, -3.0318, -2.9754, -2.8198,\n",
      "         -2.9075, -2.9020]], grad_fn=<LogSoftmaxBackward0>)\n",
      "tensor([[-2.8921, -2.9166, -2.9677, -2.9683, -2.8517, -2.9767, -2.7349, -2.9402,\n",
      "         -2.8569, -2.8153, -2.9248, -2.8042, -2.7947, -3.0323, -2.9746, -2.8198,\n",
      "         -2.9066, -2.9022]], grad_fn=<LogSoftmaxBackward0>)\n"
     ]
    }
   ],
   "execution_count": 35
  },
  {
   "cell_type": "markdown",
   "metadata": {},
   "source": [
    "As you can see the output is a `<1 x n_categories>` Tensor, where every\n",
    "item is the likelihood of that category (higher is more likely).\n"
   ]
  },
  {
   "metadata": {
    "ExecuteTime": {
     "end_time": "2024-07-18T03:10:01.579401Z",
     "start_time": "2024-07-18T03:10:01.570301Z"
    }
   },
   "cell_type": "code",
   "source": "",
   "outputs": [
    {
     "name": "stdout",
     "output_type": "stream",
     "text": [
      "tensor([[-2.8875, -2.9364, -2.9749, -2.9040, -2.8684, -2.9633, -2.8092, -2.9490,\n",
      "         -2.8332, -2.7908, -2.9240, -2.7601, -2.8245, -3.0063, -2.9758, -2.8444,\n",
      "         -2.9019, -2.9156]], grad_fn=<LogSoftmaxBackward0>)\n"
     ]
    }
   ],
   "execution_count": 34
  },
  {
   "cell_type": "markdown",
   "metadata": {},
   "source": [
    "Training\n",
    "========\n",
    "\n",
    "Preparing for Training\n",
    "----------------------\n",
    "\n",
    "Before going into training we should make a few helper functions. The\n",
    "first is to interpret the output of the network, which we know to be a\n",
    "likelihood of each category. We can use `Tensor.topk` to get the index\n",
    "of the greatest value:\n"
   ]
  },
  {
   "cell_type": "code",
   "metadata": {
    "collapsed": false,
    "ExecuteTime": {
     "end_time": "2024-07-18T02:52:13.040836Z",
     "start_time": "2024-07-18T02:52:13.029168Z"
    }
   },
   "source": [
    "def categoryFromOutput(output):\n",
    "    top_n, top_i = output.topk(1)\n",
    "    category_i = top_i[0].item()\n",
    "    return all_categories[category_i], category_i\n",
    "\n",
    "print(categoryFromOutput(output))"
   ],
   "outputs": [
    {
     "name": "stdout",
     "output_type": "stream",
     "text": [
      "('Scottish', 15)\n"
     ]
    }
   ],
   "execution_count": 10
  },
  {
   "cell_type": "markdown",
   "metadata": {},
   "source": [
    "We will also want a quick way to get a training example (a name and its\n",
    "language):\n"
   ]
  },
  {
   "cell_type": "code",
   "metadata": {
    "collapsed": false,
    "ExecuteTime": {
     "end_time": "2024-07-18T02:52:13.054461Z",
     "start_time": "2024-07-18T02:52:13.042846Z"
    }
   },
   "source": [
    "import random\n",
    "\n",
    "def randomChoice(l):\n",
    "    return l[random.randint(0, len(l) - 1)]\n",
    "\n",
    "def randomTrainingExample():\n",
    "    category = randomChoice(all_categories)\n",
    "    line = randomChoice(category_lines[category])\n",
    "    category_tensor = torch.tensor([all_categories.index(category)], dtype=torch.long)\n",
    "    line_tensor = lineToTensor(line)\n",
    "    return category, line, category_tensor, line_tensor\n",
    "\n",
    "for i in range(10):\n",
    "    category, line, category_tensor, line_tensor = randomTrainingExample()\n",
    "    print('category =', category, '/ line =', line)"
   ],
   "outputs": [
    {
     "name": "stdout",
     "output_type": "stream",
     "text": [
      "category = Arabic / line = Awad\n",
      "category = Dutch / line = Oorschot\n",
      "category = Dutch / line = Venn\n",
      "category = French / line = Paquet\n",
      "category = Polish / line = Maly\n",
      "category = Czech / line = Jirik\n",
      "category = Greek / line = Metrofanis\n",
      "category = Portuguese / line = Barros\n",
      "category = German / line = Behrend\n",
      "category = Greek / line = Angelopoulos\n"
     ]
    }
   ],
   "execution_count": 11
  },
  {
   "cell_type": "markdown",
   "metadata": {},
   "source": [
    "Training the Network\n",
    "====================\n",
    "\n",
    "Now all it takes to train this network is show it a bunch of examples,\n",
    "have it make guesses, and tell it if it\\'s wrong.\n",
    "\n",
    "For the loss function `nn.NLLLoss` is appropriate, since the last layer\n",
    "of the RNN is `nn.LogSoftmax`.\n"
   ]
  },
  {
   "cell_type": "code",
   "metadata": {
    "collapsed": false,
    "ExecuteTime": {
     "end_time": "2024-07-18T02:52:13.061380Z",
     "start_time": "2024-07-18T02:52:13.056470Z"
    }
   },
   "source": "",
   "outputs": [],
   "execution_count": 11
  },
  {
   "cell_type": "markdown",
   "metadata": {},
   "source": [
    "Each loop of training will:\n",
    "\n",
    "-   Create input and target tensors\n",
    "-   Create a zeroed initial hidden state\n",
    "-   Read each letter in and\n",
    "    -   Keep hidden state for next letter\n",
    "-   Compare final output to target\n",
    "-   Back-propagate\n",
    "-   Return the output and loss\n"
   ]
  },
  {
   "cell_type": "code",
   "metadata": {
    "collapsed": false,
    "ExecuteTime": {
     "end_time": "2024-07-18T02:52:13.071882Z",
     "start_time": "2024-07-18T02:52:13.063405Z"
    }
   },
   "source": [
    "learning_rate = 0.005 # If you set this too high, it might explode. If too low, it might not learn\n",
    "\n",
    "def train(category_tensor, line_tensor):\n",
    "    hidden = rnn.initHidden()\n",
    "\n",
    "    rnn.zero_grad()\n",
    "\n",
    "    for i in range(line_tensor.size()[0]):\n",
    "        output, hidden = rnn(line_tensor[i], hidden)\n",
    "\n",
    "    loss = criterion(output, category_tensor)\n",
    "    loss.backward()\n",
    "\n",
    "    # Add parameters' gradients to their values, multiplied by learning rate\n",
    "    for p in rnn.parameters():\n",
    "        p.data.add_(p.grad.data, alpha=-learning_rate)\n",
    "\n",
    "    return output, loss.item()"
   ],
   "outputs": [],
   "execution_count": 12
  },
  {
   "cell_type": "markdown",
   "metadata": {},
   "source": [
    "Now we just have to run that with a bunch of examples. Since the `train`\n",
    "function returns both the output and loss we can print its guesses and\n",
    "also keep track of loss for plotting. Since there are 1000s of examples\n",
    "we print only every `print_every` examples, and take an average of the\n",
    "loss.\n"
   ]
  },
  {
   "cell_type": "code",
   "metadata": {
    "collapsed": false,
    "ExecuteTime": {
     "end_time": "2024-07-18T02:52:21.699986Z",
     "start_time": "2024-07-18T02:52:13.074891Z"
    }
   },
   "source": [
    "import time\n",
    "import math\n",
    "import numpy as np\n",
    "import matplotlib.pyplot as plt\n",
    "import matplotlib.ticker as ticker\n",
    "\n",
    "n_iters = 200\n",
    "print_every = 10\n",
    "plot_every = 10\n",
    "\n",
    "\n",
    "\n",
    "# Keep track of losses for plotting\n",
    "current_loss = 0\n",
    "all_losses = []\n",
    "\n",
    "def timeSince(since):\n",
    "    now = time.time()\n",
    "    s = now - since\n",
    "    m = math.floor(s / 60)\n",
    "    s -= m * 60\n",
    "    return '%dm %ds' % (m, s)\n",
    "\n",
    "start = time.time()\n",
    "a=np.arange(0, 0.01, 0.001)\n",
    "for learning_rate in a:\n",
    "    for iter in range(1, n_iters + 1):\n",
    "        category, line, category_tensor, line_tensor = randomTrainingExample()\n",
    "        output, loss = train(category_tensor, line_tensor)\n",
    "        current_loss += loss\n",
    "\n",
    "        if iter == n_iters:\n",
    "            print(f\"{learning_rate}: {current_loss/n_iters}\")\n",
    "            plt.figure()\n",
    "            plt.plot(all_losses)\n",
    "            current_loss=0\n",
    "\"\"\"\n",
    "    # Print ``iter`` number, loss, name and guess\n",
    "        if iter % print_every == 0:\n",
    "            guess, guess_i = categoryFromOutput(output)\n",
    "            correct = '✓' if guess == category else '✗ (%s)' % category\n",
    "            print('%d %d%% (%s) %.4f %s / %s %s' % (iter, iter / n_iters * 100, timeSince(start), loss, line, guess, correct))\n",
    "\n",
    "        print(f\"{current_loss/plot_every}\")\n",
    "    # Add current loss avg to list of losses\n",
    "        if iter % plot_every == 0:\n",
    "            all_losses.append(current_loss / plot_every)\n",
    "            current_loss = 0\n",
    "\"\"\""
   ],
   "outputs": [
    {
     "name": "stdout",
     "output_type": "stream",
     "text": [
      "0.0: 2.8976713573932646\n",
      "0.001: 2.8942798733711244\n",
      "0.002: 2.884811680316925\n",
      "0.003: 2.8803172159194945\n",
      "0.004: 2.8870945262908934\n",
      "0.005: 2.8709350740909576\n",
      "0.006: 2.8645009493827818\n",
      "0.007: 2.8572578299045563\n",
      "0.008: 2.826086949110031\n",
      "0.009000000000000001: 2.816450846195221\n"
     ]
    },
    {
     "data": {
      "text/plain": [
       "'\\n    # Print ``iter`` number, loss, name and guess\\n        if iter % print_every == 0:\\n            guess, guess_i = categoryFromOutput(output)\\n            correct = \\'✓\\' if guess == category else \\'✗ (%s)\\' % category\\n            print(\\'%d %d%% (%s) %.4f %s / %s %s\\' % (iter, iter / n_iters * 100, timeSince(start), loss, line, guess, correct))\\n\\n        print(f\"{current_loss/plot_every}\")\\n    # Add current loss avg to list of losses\\n        if iter % plot_every == 0:\\n            all_losses.append(current_loss / plot_every)\\n            current_loss = 0\\n'"
      ]
     },
     "execution_count": 13,
     "metadata": {},
     "output_type": "execute_result"
    },
    {
     "data": {
      "text/plain": [
       "<Figure size 640x480 with 1 Axes>"
      ],
      "image/png": "[encoded data removed]"
     },
     "metadata": {},
     "output_type": "display_data"
    },
    {
     "data": {
      "text/plain": [
       "<Figure size 640x480 with 1 Axes>"
      ],
      "image/png": "[encoded data removed]"
     },
     "metadata": {},
     "output_type": "display_data"
    },
    {
     "data": {
      "text/plain": [
       "<Figure size 640x480 with 1 Axes>"
      ],
      "image/png": "[encoded data removed]"
     },
     "metadata": {},
     "output_type": "display_data"
    },
    {
     "data": {
      "text/plain": [
       "<Figure size 640x480 with 1 Axes>"
      ],
      "image/png": "[encoded data removed]"
     },
     "metadata": {},
     "output_type": "display_data"
    },
    {
     "data": {
      "text/plain": [
       "<Figure size 640x480 with 1 Axes>"
      ],
      "image/png": "[encoded data removed]"
     },
     "metadata": {},
     "output_type": "display_data"
    },
    {
     "data": {
      "text/plain": [
       "<Figure size 640x480 with 1 Axes>"
      ],
      "image/png": "[encoded data removed]"
     },
     "metadata": {},
     "output_type": "display_data"
    },
    {
     "data": {
      "text/plain": [
       "<Figure size 640x480 with 1 Axes>"
      ],
      "image/png": "[encoded data removed]"
     },
     "metadata": {},
     "output_type": "display_data"
    },
    {
     "data": {
      "text/plain": [
       "<Figure size 640x480 with 1 Axes>"
      ],
      "image/png": "[encoded data removed]"
     },
     "metadata": {},
     "output_type": "display_data"
    },
    {
     "data": {
      "text/plain": [
       "<Figure size 640x480 with 1 Axes>"
      ],
      "image/png": "[encoded data removed]"
     },
     "metadata": {},
     "output_type": "display_data"
    },
    {
     "data": {
      "text/plain": [
       "<Figure size 640x480 with 1 Axes>"
      ],
      "image/png": "[encoded data removed]"
     },
     "metadata": {},
     "output_type": "display_data"
    }
   ],
   "execution_count": 13
  },
  {
   "cell_type": "markdown",
   "metadata": {},
   "source": [
    "Plotting the Results\n",
    "====================\n",
    "\n",
    "Plotting the historical loss from `all_losses` shows the network\n",
    "learning:\n"
   ]
  },
  {
   "cell_type": "code",
   "metadata": {
    "collapsed": false,
    "ExecuteTime": {
     "end_time": "2024-07-18T02:52:21.945038Z",
     "start_time": "2024-07-18T02:52:21.702999Z"
    }
   },
   "source": [
    "import matplotlib.pyplot as plt\n",
    "import matplotlib.ticker as ticker\n",
    "\n",
    "plt.figure()\n",
    "plt.plot(all_losses)"
   ],
   "outputs": [
    {
     "data": {
      "text/plain": [
       "[<matplotlib.lines.Line2D at 0x1724b0f8fe0>]"
      ]
     },
     "execution_count": 14,
     "metadata": {},
     "output_type": "execute_result"
    },
    {
     "data": {
      "text/plain": [
       "<Figure size 640x480 with 1 Axes>"
      ],
      "image/png": "[encoded data removed]"
     },
     "metadata": {},
     "output_type": "display_data"
    }
   ],
   "execution_count": 14
  },
  {
   "cell_type": "markdown",
   "metadata": {},
   "source": [
    "Evaluating the Results\n",
    "======================\n",
    "\n",
    "To see how well the network performs on different categories, we will\n",
    "create a confusion matrix, indicating for every actual language (rows)\n",
    "which language the network guesses (columns). To calculate the confusion\n",
    "matrix a bunch of samples are run through the network with `evaluate()`,\n",
    "which is the same as `train()` minus the backprop.\n"
   ]
  },
  {
   "cell_type": "code",
   "metadata": {
    "collapsed": false,
    "ExecuteTime": {
     "end_time": "2024-07-18T02:52:23.119848Z",
     "start_time": "2024-07-18T02:52:21.948048Z"
    }
   },
   "source": [
    "# Keep track of correct guesses in a confusion matrix\n",
    "confusion = torch.zeros(n_categories, n_categories)\n",
    "n_confusion = 200\n",
    "\n",
    "# Just return an output given a line\n",
    "def evaluate(line_tensor):\n",
    "    hidden = rnn.initHidden()\n",
    "\n",
    "    for i in range(line_tensor.size()[0]):\n",
    "        output, hidden = rnn(line_tensor[i], hidden)\n",
    "\n",
    "    return output\n",
    "\n",
    "# Go through a bunch of examples and record which are correctly guessed\n",
    "for i in range(n_confusion):\n",
    "    category, line, category_tensor, line_tensor = randomTrainingExample()\n",
    "    output = evaluate(line_tensor)\n",
    "    guess, guess_i = categoryFromOutput(output)\n",
    "    category_i = all_categories.index(category)\n",
    "    confusion[category_i][guess_i] += 1\n",
    "\n",
    "# Normalize by dividing every row by its sum\n",
    "for i in range(n_categories):\n",
    "    confusion[i] = confusion[i] / confusion[i].sum()\n",
    "\n",
    "# Set up plot\n",
    "fig = plt.figure()\n",
    "ax = fig.add_subplot(111)\n",
    "cax = ax.matshow(confusion.numpy())\n",
    "fig.colorbar(cax)\n",
    "\n",
    "# Set up axes\n",
    "ax.set_xticklabels([''] + all_categories, rotation=90)\n",
    "ax.set_yticklabels([''] + all_categories)\n",
    "\n",
    "# Force label at every tick\n",
    "ax.xaxis.set_major_locator(ticker.MultipleLocator(1))\n",
    "ax.yaxis.set_major_locator(ticker.MultipleLocator(1))\n",
    "\n",
    "# sphinx_gallery_thumbnail_number = 2\n",
    "plt.show()"
   ],
   "outputs": [
    {
     "name": "stderr",
     "output_type": "stream",
     "text": [
      "C:\\Users\\yover\\AppData\\Local\\Temp\\ipykernel_31148\\2646374282.py:33: UserWarning: set_ticklabels() should only be used with a fixed number of ticks, i.e. after set_ticks() or using a FixedLocator.\n",
      "  ax.set_xticklabels([''] + all_categories, rotation=90)\n",
      "C:\\Users\\yover\\AppData\\Local\\Temp\\ipykernel_31148\\2646374282.py:34: UserWarning: set_ticklabels() should only be used with a fixed number of ticks, i.e. after set_ticks() or using a FixedLocator.\n",
      "  ax.set_yticklabels([''] + all_categories)\n"
     ]
    },
    {
     "data": {
      "text/plain": [
       "<Figure size 640x480 with 2 Axes>"
      ],
      "image/png": "[encoded data removed]"
     },
     "metadata": {},
     "output_type": "display_data"
    }
   ],
   "execution_count": 15
  },
  {
   "cell_type": "markdown",
   "metadata": {},
   "source": [
    "You can pick out bright spots off the main axis that show which\n",
    "languages it guesses incorrectly, e.g. Chinese for Korean, and Spanish\n",
    "for Italian. It seems to do very well with Greek, and very poorly with\n",
    "English (perhaps because of overlap with other languages).\n"
   ]
  },
  {
   "cell_type": "markdown",
   "metadata": {},
   "source": [
    "Running on User Input\n",
    "=====================\n"
   ]
  },
  {
   "cell_type": "code",
   "metadata": {
    "collapsed": false,
    "ExecuteTime": {
     "end_time": "2024-07-18T02:52:23.138727Z",
     "start_time": "2024-07-18T02:52:23.121509Z"
    }
   },
   "source": [
    "def predict(input_line, n_predictions=3):\n",
    "    print('\\n> %s' % input_line)\n",
    "    with torch.no_grad():\n",
    "        output = evaluate(lineToTensor(input_line))\n",
    "\n",
    "        # Get top N categories\n",
    "        topv, topi = output.topk(n_predictions, 1, True)\n",
    "        predictions = []\n",
    "\n",
    "        for i in range(n_predictions):\n",
    "            value = topv[0][i].item()\n",
    "            category_index = topi[0][i].item()\n",
    "            print('(%.2f) %s' % (value, all_categories[category_index]))\n",
    "            predictions.append([value, all_categories[category_index]])\n",
    "\n",
    "predict('Dovesky')\n",
    "predict('Jackson')\n",
    "predict('Satoshi')"
   ],
   "outputs": [
    {
     "name": "stdout",
     "output_type": "stream",
     "text": [
      "\n",
      "> Dovesky\n",
      "(-2.63) Russian\n",
      "(-2.73) English\n",
      "(-2.75) Chinese\n",
      "\n",
      "> Jackson\n",
      "(-2.72) Scottish\n",
      "(-2.74) Spanish\n",
      "(-2.75) English\n",
      "\n",
      "> Satoshi\n",
      "(-2.68) Spanish\n",
      "(-2.70) Italian\n",
      "(-2.74) Scottish\n"
     ]
    }
   ],
   "execution_count": 16
  },
  {
   "cell_type": "markdown",
   "metadata": {},
   "source": [
    "The final versions of the scripts [in the Practical PyTorch\n",
    "repo](https://github.com/spro/practical-pytorch/tree/master/char-rnn-classification)\n",
    "split the above code into a few files:\n",
    "\n",
    "-   `data.py` (loads files)\n",
    "-   `model.py` (defines the RNN)\n",
    "-   `train.py` (runs training)\n",
    "-   `predict.py` (runs `predict()` with command line arguments)\n",
    "-   `server.py` (serve prediction as a JSON API with `bottle.py`)\n",
    "\n",
    "Run `train.py` to train and save the network.\n",
    "\n",
    "Run `predict.py` with a name to view predictions:\n",
    "\n",
    "``` {.sourceCode .sh}\n",
    "$ python predict.py Hazaki\n",
    "(-0.42) Japanese\n",
    "(-1.39) Polish\n",
    "(-3.51) Czech\n",
    "```\n",
    "\n",
    "Run `server.py` and visit <http://localhost:5533/Yourname> to get JSON\n",
    "output of predictions.\n"
   ]
  },
  {
   "cell_type": "markdown",
   "metadata": {},
   "source": [
    "Exercises\n",
    "=========\n",
    "\n",
    "-   Try with a different dataset of line -\\> category, for example:\n",
    "    -   Any word -\\> language\n",
    "    -   First name -\\> gender\n",
    "    -   Character name -\\> writer\n",
    "    -   Page title -\\> blog or subreddit\n",
    "-   Get better results with a bigger and/or better shaped network\n",
    "    -   Add more linear layers\n",
    "    -   Try the `nn.LSTM` and `nn.GRU` layers\n",
    "    -   Combine multiple of these RNNs as a higher level network\n"
   ]
  }
 ],
 "metadata": {
  "kernelspec": {
   "display_name": "Python 3",
   "language": "python",
   "name": "python3"
  },
  "language_info": {
   "codemirror_mode": {
    "name": "ipython",
    "version": 3
   },
   "file_extension": ".py",
   "mimetype": "text/x-python",
   "name": "python",
   "nbconvert_exporter": "python",
   "pygments_lexer": "ipython3",
   "version": "3.10.14"
  }
 },
 "nbformat": 4,
 "nbformat_minor": 0
}
